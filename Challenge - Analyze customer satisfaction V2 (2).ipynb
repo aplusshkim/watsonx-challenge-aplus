{
 "cells": [
  {
   "cell_type": "markdown",
   "metadata": {
    "collapsed": true
   },
   "source": [
    "![image](https://raw.githubusercontent.com/IBM/watson-machine-learning-samples/master/cloud/notebooks/headers/watsonx-Prompt_Lab-Notebook.png)\n",
    "# Use Watsonx to analyze car rental customer satisfaction and offer recommendation."
   ]
  },
  {
   "cell_type": "markdown",
   "metadata": {},
   "source": [
    "**Note:** Please note that for the watsonx challenge, please run these notebooks in IBM Cloud and not on on your laptop/desktop."
   ]
  },
  {
   "cell_type": "markdown",
   "metadata": {},
   "source": [
    "This notebook contains the steps and code to demonstrate support of text sentiment analysis in Watsonx. It introduces commands for data retrieval, model testing and scoring.\n",
    "\n",
    "Some familiarity with Python is helpful. This notebook uses Python 3.10."
   ]
  },
  {
   "cell_type": "markdown",
   "metadata": {},
   "source": [
    "<a id=\"setup\"></a>\n",
    "## Set up the environment"
   ]
  },
  {
   "cell_type": "markdown",
   "metadata": {},
   "source": [
    "### Install and import the dependecies"
   ]
  },
  {
   "cell_type": "code",
   "execution_count": 173,
   "metadata": {},
   "outputs": [
    {
     "name": "stdout",
     "output_type": "stream",
     "text": [
      "Requirement already satisfied: six>=1.5 in /opt/conda/envs/Python-RT23.1/lib/python3.10/site-packages (from python-dateutil>=2.8.1->pandas->datasets) (1.16.0)\n",
      "Requirement already satisfied: threadpoolctl>=2.0.0 in /opt/conda/envs/Python-RT23.1/lib/python3.10/site-packages (from scikit-learn) (2.2.0)\n",
      "Requirement already satisfied: six>=1.10.0 in /opt/conda/envs/Python-RT23.1/lib/python3.10/site-packages (from lomond->ibm-watson-machine-learning==1.0.312) (1.16.0)\n"
     ]
    }
   ],
   "source": [
    "!pip install datasets | tail -n 1\n",
    "!pip install scikit-learn | tail -n 1\n",
    "!pip install ibm-watson-machine-learning==1.0.312 | tail -n 1"
   ]
  },
  {
   "cell_type": "markdown",
   "metadata": {},
   "source": [
    "**Note:** Please restart the notebook kernel to pick up proper version of packages installed above."
   ]
  },
  {
   "cell_type": "code",
   "execution_count": 174,
   "metadata": {},
   "outputs": [],
   "source": [
    "import os, getpass\n",
    "from pandas import read_csv"
   ]
  },
  {
   "cell_type": "markdown",
   "metadata": {},
   "source": [
    "### Watsonx API connection\n",
    "This cell defines the credentials required to work with watsonx API for Foundation\n",
    "Model inferencing.\n",
    "\n",
    "**Action:** Provide the IBM Cloud user API key. Instructions have been provided to generate IBM Cloud API key. For details, see\n",
    "[documentation](https://cloud.ibm.com/docs/account?topic=account-userapikey&interface=ui)."
   ]
  },
  {
   "cell_type": "code",
   "execution_count": 457,
   "metadata": {},
   "outputs": [
    {
     "name": "stdout",
     "output_type": "stream",
     "text": [
      "Please enter your api key (hit enter): ········\n"
     ]
    }
   ],
   "source": [
    "from ibm_cloud_sdk_core import IAMTokenManager\n",
    "from ibm_cloud_sdk_core.authenticators import IAMAuthenticator, BearerTokenAuthenticator\n",
    "import os, getpass\n",
    "\n",
    "access_token = IAMTokenManager(\n",
    "    apikey = getpass.getpass(\"Please enter your api key (hit enter): \"),\n",
    "    url = \"https://iam.cloud.ibm.com/identity/token\"\n",
    ").get_token()"
   ]
  },
  {
   "cell_type": "markdown",
   "metadata": {},
   "source": [
    "### Defining the project id\n",
    "The API requires project id that provides the context for the call. We will obtain the id from the project in which this notebook runs. When you run notebook on IBM Cloud, project in which it runs is saved as environment variable PROJECT_ID.\n",
    "\n",
    "**Hint**: You can find the `project_id` as follows. Open the prompt lab in watsonx.ai. At the very top of the UI, there will be `Projects / <project name> /`. Click on the `<project name>` link. Then get the `project_id` from Project's Manage tab (Project -> Manage -> General -> Details).\n"
   ]
  },
  {
   "cell_type": "code",
   "execution_count": 240,
   "metadata": {},
   "outputs": [],
   "source": [
    "try:\n",
    "    project_id = os.environ[\"PROJECT_ID\"]\n",
    "except KeyError:\n",
    "    project_id = input(\"Please enter your project_id (hit enter): \")"
   ]
  },
  {
   "cell_type": "markdown",
   "metadata": {},
   "source": [
    "<a id=\"data\"></a>\n",
    "## Train/test data loading"
   ]
  },
  {
   "cell_type": "markdown",
   "metadata": {},
   "source": [
    "Load train and test datasets. At first, training dataset (`train_data`) should be used to work with the models to prepare and tune prompt. Then, test dataset (`test_data`) should be used to calculate the metrics score for selected model, defined prompts and parameters."
   ]
  },
  {
   "cell_type": "code",
   "execution_count": 177,
   "metadata": {},
   "outputs": [],
   "source": [
    "filename_test = 'https://watsonx-gsi-challenge.s3.jp-tok.cloud-object-storage.appdomain.cloud/track1/test.csv'\n",
    "filename_train = 'https://watsonx-gsi-challenge.s3.jp-tok.cloud-object-storage.appdomain.cloud/track1/train.csv'\n",
    "\n",
    "test_data = read_csv(filename_test)\n",
    "train_data = read_csv(filename_train)"
   ]
  },
  {
   "cell_type": "code",
   "execution_count": 178,
   "metadata": {},
   "outputs": [
    {
     "data": {
      "text/html": [
       "<div>\n",
       "<style scoped>\n",
       "    .dataframe tbody tr th:only-of-type {\n",
       "        vertical-align: middle;\n",
       "    }\n",
       "\n",
       "    .dataframe tbody tr th {\n",
       "        vertical-align: top;\n",
       "    }\n",
       "\n",
       "    .dataframe thead th {\n",
       "        text-align: right;\n",
       "    }\n",
       "</style>\n",
       "<table border=\"1\" class=\"dataframe\">\n",
       "  <thead>\n",
       "    <tr style=\"text-align: right;\">\n",
       "      <th></th>\n",
       "      <th>ID</th>\n",
       "      <th>Gender</th>\n",
       "      <th>Status</th>\n",
       "      <th>Children</th>\n",
       "      <th>Age</th>\n",
       "      <th>Customer_Status</th>\n",
       "      <th>Car_Owner</th>\n",
       "      <th>Customer_Service</th>\n",
       "      <th>Satisfaction</th>\n",
       "      <th>Business_Area</th>\n",
       "      <th>Action</th>\n",
       "    </tr>\n",
       "  </thead>\n",
       "  <tbody>\n",
       "    <tr>\n",
       "      <th>0</th>\n",
       "      <td>2944</td>\n",
       "      <td>Female</td>\n",
       "      <td>M</td>\n",
       "      <td>2</td>\n",
       "      <td>41.92</td>\n",
       "      <td>Active</td>\n",
       "      <td>No</td>\n",
       "      <td>Customer service was friendly and helpful.</td>\n",
       "      <td>1</td>\n",
       "      <td>Service: Knowledge</td>\n",
       "      <td>NaN</td>\n",
       "    </tr>\n",
       "    <tr>\n",
       "      <th>1</th>\n",
       "      <td>1119</td>\n",
       "      <td>Female</td>\n",
       "      <td>M</td>\n",
       "      <td>2</td>\n",
       "      <td>33.60</td>\n",
       "      <td>Active</td>\n",
       "      <td>Yes</td>\n",
       "      <td>Customer service was good at MSP airport and t...</td>\n",
       "      <td>1</td>\n",
       "      <td>Service: Knowledge</td>\n",
       "      <td>NaN</td>\n",
       "    </tr>\n",
       "    <tr>\n",
       "      <th>2</th>\n",
       "      <td>0</td>\n",
       "      <td>Male</td>\n",
       "      <td>M</td>\n",
       "      <td>0</td>\n",
       "      <td>51.00</td>\n",
       "      <td>Inactive</td>\n",
       "      <td>Yes</td>\n",
       "      <td>I do not  understand why I have to pay additio...</td>\n",
       "      <td>0</td>\n",
       "      <td>Product: Pricing and Billing</td>\n",
       "      <td>Premium features</td>\n",
       "    </tr>\n",
       "    <tr>\n",
       "      <th>3</th>\n",
       "      <td>1085</td>\n",
       "      <td>Female</td>\n",
       "      <td>S</td>\n",
       "      <td>2</td>\n",
       "      <td>42.00</td>\n",
       "      <td>Inactive</td>\n",
       "      <td>No</td>\n",
       "      <td>Based on the customer service personnel I enco...</td>\n",
       "      <td>0</td>\n",
       "      <td>Service: Attitude</td>\n",
       "      <td>On-demand pickup location</td>\n",
       "    </tr>\n",
       "    <tr>\n",
       "      <th>4</th>\n",
       "      <td>0</td>\n",
       "      <td>Female</td>\n",
       "      <td>M</td>\n",
       "      <td>2</td>\n",
       "      <td>44.10</td>\n",
       "      <td>Active</td>\n",
       "      <td>No</td>\n",
       "      <td>Provide more convenient car pickup from the ai...</td>\n",
       "      <td>0</td>\n",
       "      <td>Service: Orders/Contracts</td>\n",
       "      <td>On-demand pickup location</td>\n",
       "    </tr>\n",
       "  </tbody>\n",
       "</table>\n",
       "</div>"
      ],
      "text/plain": [
       "     ID  Gender Status  Children    Age Customer_Status Car_Owner  \\\n",
       "0  2944  Female      M         2  41.92          Active        No   \n",
       "1  1119  Female      M         2  33.60          Active       Yes   \n",
       "2     0    Male      M         0  51.00        Inactive       Yes   \n",
       "3  1085  Female      S         2  42.00        Inactive        No   \n",
       "4     0  Female      M         2  44.10          Active        No   \n",
       "\n",
       "                                    Customer_Service  Satisfaction  \\\n",
       "0         Customer service was friendly and helpful.             1   \n",
       "1  Customer service was good at MSP airport and t...             1   \n",
       "2  I do not  understand why I have to pay additio...             0   \n",
       "3  Based on the customer service personnel I enco...             0   \n",
       "4  Provide more convenient car pickup from the ai...             0   \n",
       "\n",
       "                  Business_Area                     Action  \n",
       "0            Service: Knowledge                        NaN  \n",
       "1            Service: Knowledge                        NaN  \n",
       "2  Product: Pricing and Billing           Premium features  \n",
       "3             Service: Attitude  On-demand pickup location  \n",
       "4     Service: Orders/Contracts  On-demand pickup location  "
      ]
     },
     "execution_count": 178,
     "metadata": {},
     "output_type": "execute_result"
    }
   ],
   "source": [
    "train_data.head()"
   ]
  },
  {
   "cell_type": "code",
   "execution_count": 179,
   "metadata": {},
   "outputs": [
    {
     "data": {
      "text/html": [
       "<div>\n",
       "<style scoped>\n",
       "    .dataframe tbody tr th:only-of-type {\n",
       "        vertical-align: middle;\n",
       "    }\n",
       "\n",
       "    .dataframe tbody tr th {\n",
       "        vertical-align: top;\n",
       "    }\n",
       "\n",
       "    .dataframe thead th {\n",
       "        text-align: right;\n",
       "    }\n",
       "</style>\n",
       "<table border=\"1\" class=\"dataframe\">\n",
       "  <thead>\n",
       "    <tr style=\"text-align: right;\">\n",
       "      <th></th>\n",
       "      <th>ID</th>\n",
       "      <th>Gender</th>\n",
       "      <th>Status</th>\n",
       "      <th>Children</th>\n",
       "      <th>Age</th>\n",
       "      <th>Customer_Status</th>\n",
       "      <th>Car_Owner</th>\n",
       "      <th>Customer_Service</th>\n",
       "      <th>Satisfaction</th>\n",
       "      <th>Business_Area</th>\n",
       "      <th>Action</th>\n",
       "    </tr>\n",
       "  </thead>\n",
       "  <tbody>\n",
       "    <tr>\n",
       "      <th>0</th>\n",
       "      <td>2771</td>\n",
       "      <td>Female</td>\n",
       "      <td>M</td>\n",
       "      <td>2</td>\n",
       "      <td>49.99</td>\n",
       "      <td>Inactive</td>\n",
       "      <td>No</td>\n",
       "      <td>last time I rented a car was at Manchester, NH...</td>\n",
       "      <td>0</td>\n",
       "      <td>Product: Functioning</td>\n",
       "      <td>On-demand pickup location</td>\n",
       "    </tr>\n",
       "    <tr>\n",
       "      <th>1</th>\n",
       "      <td>1133</td>\n",
       "      <td>Male</td>\n",
       "      <td>S</td>\n",
       "      <td>1</td>\n",
       "      <td>56.05</td>\n",
       "      <td>Inactive</td>\n",
       "      <td>No</td>\n",
       "      <td>Please lower the prices.</td>\n",
       "      <td>0</td>\n",
       "      <td>Product: Pricing and Billing</td>\n",
       "      <td>Free Upgrade</td>\n",
       "    </tr>\n",
       "    <tr>\n",
       "      <th>2</th>\n",
       "      <td>900</td>\n",
       "      <td>Female</td>\n",
       "      <td>M</td>\n",
       "      <td>1</td>\n",
       "      <td>64.64</td>\n",
       "      <td>Active</td>\n",
       "      <td>No</td>\n",
       "      <td>Excellent response dealing with child seat.</td>\n",
       "      <td>1</td>\n",
       "      <td>Service: Accessibility</td>\n",
       "      <td>NaN</td>\n",
       "    </tr>\n",
       "    <tr>\n",
       "      <th>3</th>\n",
       "      <td>3795</td>\n",
       "      <td>Male</td>\n",
       "      <td>M</td>\n",
       "      <td>0</td>\n",
       "      <td>46.51</td>\n",
       "      <td>Inactive</td>\n",
       "      <td>No</td>\n",
       "      <td>all went quite smoothly... it was Enterprise, ...</td>\n",
       "      <td>1</td>\n",
       "      <td>Service: Accessibility</td>\n",
       "      <td>NaN</td>\n",
       "    </tr>\n",
       "    <tr>\n",
       "      <th>4</th>\n",
       "      <td>3541</td>\n",
       "      <td>Male</td>\n",
       "      <td>S</td>\n",
       "      <td>1</td>\n",
       "      <td>17.01</td>\n",
       "      <td>Inactive</td>\n",
       "      <td>Yes</td>\n",
       "      <td>Slow, long lineup</td>\n",
       "      <td>0</td>\n",
       "      <td>Product: Functioning</td>\n",
       "      <td>On-demand pickup location</td>\n",
       "    </tr>\n",
       "  </tbody>\n",
       "</table>\n",
       "</div>"
      ],
      "text/plain": [
       "     ID  Gender Status  Children    Age Customer_Status Car_Owner  \\\n",
       "0  2771  Female      M         2  49.99        Inactive        No   \n",
       "1  1133    Male      S         1  56.05        Inactive        No   \n",
       "2   900  Female      M         1  64.64          Active        No   \n",
       "3  3795    Male      M         0  46.51        Inactive        No   \n",
       "4  3541    Male      S         1  17.01        Inactive       Yes   \n",
       "\n",
       "                                    Customer_Service  Satisfaction  \\\n",
       "0  last time I rented a car was at Manchester, NH...             0   \n",
       "1                           Please lower the prices.             0   \n",
       "2        Excellent response dealing with child seat.             1   \n",
       "3  all went quite smoothly... it was Enterprise, ...             1   \n",
       "4                                  Slow, long lineup             0   \n",
       "\n",
       "                  Business_Area                     Action  \n",
       "0          Product: Functioning  On-demand pickup location  \n",
       "1  Product: Pricing and Billing               Free Upgrade  \n",
       "2        Service: Accessibility                        NaN  \n",
       "3        Service: Accessibility                        NaN  \n",
       "4          Product: Functioning  On-demand pickup location  "
      ]
     },
     "execution_count": 179,
     "metadata": {},
     "output_type": "execute_result"
    }
   ],
   "source": [
    "test_data.head()"
   ]
  },
  {
   "cell_type": "markdown",
   "metadata": {},
   "source": [
    "<a id=\"models\"></a>\n",
    "## Foundation Models on Watsonx"
   ]
  },
  {
   "cell_type": "markdown",
   "metadata": {},
   "source": [
    "\n",
    "\n",
    "Below code invokes Watson Machine Learning API to invoke Watsonx.ai LLMs\n"
   ]
  },
  {
   "cell_type": "code",
   "execution_count": 180,
   "metadata": {},
   "outputs": [],
   "source": [
    "import requests\n",
    "\n",
    "class Prompt:\n",
    "    def __init__(self, access_token, project_id):\n",
    "        self.access_token = access_token\n",
    "        self.project_id = project_id\n",
    "\n",
    "    def generate(self, input, model_id, parameters):\n",
    "        wml_url = \"https://us-south.ml.cloud.ibm.com/ml/v1-beta/generation/text?version=2023-05-28\"\n",
    "        Headers = {\n",
    "            \"Authorization\": \"Bearer \" + self.access_token,\n",
    "            \"Content-Type\": \"application/json\",\n",
    "            \"Accept\": \"application/json\"\n",
    "        }\n",
    "        data = {\n",
    "            \"model_id\": model_id,\n",
    "            \"input\": input,\n",
    "            \"parameters\": parameters,\n",
    "            \"project_id\": self.project_id\n",
    "        }\n",
    "        response = requests.post(wml_url, json=data, headers=Headers)\n",
    "        if response.status_code == 200:\n",
    "            return response.json()[\"results\"][0][\"generated_text\"]\n",
    "        else:\n",
    "            return response.text"
   ]
  },
  {
   "cell_type": "markdown",
   "metadata": {},
   "source": [
    "<a id=\"predict\"></a>\n",
    "## Evaluate the model, prompt and parameters"
   ]
  },
  {
   "cell_type": "markdown",
   "metadata": {},
   "source": [
    "### **1. Customer satisfaction**"
   ]
  },
  {
   "cell_type": "markdown",
   "metadata": {},
   "source": [
    "Define instructions for the model to recognize if customer was satisfied or unsatisfied.\n",
    "\n",
    "**Note:** Please **start with using [watsonx.ai Prompt Lab](https://dataplatform.cloud.ibm.com/wx/home?context=wx)** to find better prompts that provides you the best result on a small subset training records (under `train_data` variable). Make sure to not run an inference of all of `train_data`, as it'll take a long time to get the results. To get a sample from `train_data`, you can use e.g.`train_data.head(n=10)` to get first 10 records, or `train_data.sample(n=10)` to get random 10 records. Only once you have identified the best performing prompt, update this notebook to use the prompt and compute the metrics on the test data.\n",
    "\n",
    "**Action:** Please edit the below cell and add your own prompt here. In the below prompt, we have the instruction (first sentence) and one example included in the prompt.  If you want to change the prompt or add your own examples or more examples, please change the below prompt accordingly."
   ]
  },
  {
   "cell_type": "markdown",
   "metadata": {},
   "source": [
    "#### 1.1. Default values and package declarations"
   ]
  },
  {
   "cell_type": "markdown",
   "metadata": {},
   "source": [
    "For repeated execution of functions, values defined as one-time use are declared in advance."
   ]
  },
  {
   "cell_type": "code",
   "execution_count": 458,
   "metadata": {},
   "outputs": [],
   "source": [
    "from sklearn.metrics import f1_score\n",
    "\n",
    "prompt = Prompt(access_token, project_id)\n",
    "comments = list(test_data.Customer_Service)\n",
    "satisfaction = list(test_data.Satisfaction.astype(str))\n",
    "\n",
    "satisfaction_instruction_head = \"\"\"\n",
    "\n",
    "Decide if customer was satisfied or not based on the given feedback by customer. Respond 1 if satisfied and 0 if unsatisfied.\n",
    "\n",
    "\"\"\""
   ]
  },
  {
   "cell_type": "markdown",
   "metadata": {},
   "source": [
    "#### Defining the model parameters\n",
    "We need to provide a set of model parameters that will influence the result. We will use IBM's Granite model."
   ]
  },
  {
   "cell_type": "code",
   "execution_count": 453,
   "metadata": {},
   "outputs": [],
   "source": [
    "parameters = {\n",
    "    \"decoding_method\": \"greedy\",\"\"\n",
    "    \"max_new_tokens\": 1,\n",
    "    \"min_new_tokens\": 1,\n",
    "    \"repetition_penalty\": 1\n",
    "}\n",
    "\n",
    "model_id = \"ibm/granite-13b-instruct-v1\""
   ]
  },
  {
   "cell_type": "markdown",
   "metadata": {},
   "source": [
    "Analyze the customer satisfaction for inputs from the test set.\n",
    "\n",
    "**Note:** Execution of this cell could take several minutes."
   ]
  },
  {
   "cell_type": "markdown",
   "metadata": {},
   "source": [
    "#### 1.2. Randomly repeated"
   ]
  },
  {
   "cell_type": "markdown",
   "metadata": {},
   "source": [
    "Randomly select 10 of the training data and provide them as examples after the instructions to repeat the process. The results with the following index numbers were the best.\n",
    "\n",
    "[62, 7, 23, 53, 67, 66, 81, 40, 13, 78]"
   ]
  },
  {
   "cell_type": "code",
   "execution_count": 459,
   "metadata": {},
   "outputs": [
    {
     "name": "stdout",
     "output_type": "stream",
     "text": [
      "Randomly select 10 training data...[13, 90, 82, 53, 69, 0, 40, 96, 18, 19], satisfaction count = 4, f1_micro_score :  0.8599999999999999\n",
      "Randomly select 10 training data...[81, 26, 5, 17, 39, 8, 27, 36, 87, 6], satisfaction count = 5, f1_micro_score :  0.8599999999999999\n",
      "Randomly select 10 training data...[13, 23, 30, 85, 62, 61, 24, 36, 16, 7], satisfaction count = 6, f1_micro_score :  0.8599999999999999\n",
      "Randomly select 10 training data...[17, 36, 32, 82, 24, 88, 23, 29, 7, 34], satisfaction count = 9, f1_micro_score :  0.8599999999999999\n",
      "Randomly select 10 training data...[60, 78, 14, 44, 66, 91, 90, 23, 40, 33], satisfaction count = 7, f1_micro_score :  0.8599999999999999\n",
      "Randomly select 10 training data...[81, 59, 90, 74, 31, 82, 88, 62, 33, 1], satisfaction count = 5, f1_micro_score :  0.88\n",
      "Randomly select 10 training data...[9, 52, 36, 91, 24, 46, 84, 96, 80, 93], satisfaction count = 6, f1_micro_score :  0.74\n",
      "Randomly select 10 training data...[80, 11, 40, 49, 32, 26, 42, 59, 31, 51], satisfaction count = 5, f1_micro_score :  0.88\n",
      "Randomly select 10 training data...[62, 7, 23, 53, 67, 66, 81, 40, 13, 78], satisfaction count = 7, f1_micro_score :  0.96\n",
      "Randomly select 10 training data...[27, 21, 61, 73, 42, 10, 23, 63, 48, 90], satisfaction count = 5, f1_micro_score :  0.82\n"
     ]
    },
    {
     "data": {
      "text/html": [
       "<div>\n",
       "<style scoped>\n",
       "    .dataframe tbody tr th:only-of-type {\n",
       "        vertical-align: middle;\n",
       "    }\n",
       "\n",
       "    .dataframe tbody tr th {\n",
       "        vertical-align: top;\n",
       "    }\n",
       "\n",
       "    .dataframe thead th {\n",
       "        text-align: right;\n",
       "    }\n",
       "</style>\n",
       "<table border=\"1\" class=\"dataframe\">\n",
       "  <thead>\n",
       "    <tr style=\"text-align: right;\">\n",
       "      <th></th>\n",
       "      <th>input_line_nums</th>\n",
       "      <th>satisfaction_nums</th>\n",
       "      <th>f1_scores</th>\n",
       "    </tr>\n",
       "  </thead>\n",
       "  <tbody>\n",
       "    <tr>\n",
       "      <th>8</th>\n",
       "      <td>[62, 7, 23, 53, 67, 66, 81, 40, 13, 78]</td>\n",
       "      <td>7</td>\n",
       "      <td>0.96</td>\n",
       "    </tr>\n",
       "    <tr>\n",
       "      <th>5</th>\n",
       "      <td>[81, 59, 90, 74, 31, 82, 88, 62, 33, 1]</td>\n",
       "      <td>5</td>\n",
       "      <td>0.88</td>\n",
       "    </tr>\n",
       "    <tr>\n",
       "      <th>7</th>\n",
       "      <td>[80, 11, 40, 49, 32, 26, 42, 59, 31, 51]</td>\n",
       "      <td>5</td>\n",
       "      <td>0.88</td>\n",
       "    </tr>\n",
       "    <tr>\n",
       "      <th>0</th>\n",
       "      <td>[13, 90, 82, 53, 69, 0, 40, 96, 18, 19]</td>\n",
       "      <td>4</td>\n",
       "      <td>0.86</td>\n",
       "    </tr>\n",
       "    <tr>\n",
       "      <th>1</th>\n",
       "      <td>[81, 26, 5, 17, 39, 8, 27, 36, 87, 6]</td>\n",
       "      <td>5</td>\n",
       "      <td>0.86</td>\n",
       "    </tr>\n",
       "    <tr>\n",
       "      <th>2</th>\n",
       "      <td>[13, 23, 30, 85, 62, 61, 24, 36, 16, 7]</td>\n",
       "      <td>6</td>\n",
       "      <td>0.86</td>\n",
       "    </tr>\n",
       "    <tr>\n",
       "      <th>3</th>\n",
       "      <td>[17, 36, 32, 82, 24, 88, 23, 29, 7, 34]</td>\n",
       "      <td>9</td>\n",
       "      <td>0.86</td>\n",
       "    </tr>\n",
       "    <tr>\n",
       "      <th>4</th>\n",
       "      <td>[60, 78, 14, 44, 66, 91, 90, 23, 40, 33]</td>\n",
       "      <td>7</td>\n",
       "      <td>0.86</td>\n",
       "    </tr>\n",
       "    <tr>\n",
       "      <th>9</th>\n",
       "      <td>[27, 21, 61, 73, 42, 10, 23, 63, 48, 90]</td>\n",
       "      <td>5</td>\n",
       "      <td>0.82</td>\n",
       "    </tr>\n",
       "    <tr>\n",
       "      <th>6</th>\n",
       "      <td>[9, 52, 36, 91, 24, 46, 84, 96, 80, 93]</td>\n",
       "      <td>6</td>\n",
       "      <td>0.74</td>\n",
       "    </tr>\n",
       "  </tbody>\n",
       "</table>\n",
       "</div>"
      ],
      "text/plain": [
       "                            input_line_nums  satisfaction_nums  f1_scores\n",
       "8   [62, 7, 23, 53, 67, 66, 81, 40, 13, 78]                  7       0.96\n",
       "5   [81, 59, 90, 74, 31, 82, 88, 62, 33, 1]                  5       0.88\n",
       "7  [80, 11, 40, 49, 32, 26, 42, 59, 31, 51]                  5       0.88\n",
       "0   [13, 90, 82, 53, 69, 0, 40, 96, 18, 19]                  4       0.86\n",
       "1     [81, 26, 5, 17, 39, 8, 27, 36, 87, 6]                  5       0.86\n",
       "2   [13, 23, 30, 85, 62, 61, 24, 36, 16, 7]                  6       0.86\n",
       "3   [17, 36, 32, 82, 24, 88, 23, 29, 7, 34]                  9       0.86\n",
       "4  [60, 78, 14, 44, 66, 91, 90, 23, 40, 33]                  7       0.86\n",
       "9  [27, 21, 61, 73, 42, 10, 23, 63, 48, 90]                  5       0.82\n",
       "6   [9, 52, 36, 91, 24, 46, 84, 96, 80, 93]                  6       0.74"
      ]
     },
     "execution_count": 459,
     "metadata": {},
     "output_type": "execute_result"
    }
   ],
   "source": [
    "result_table = pd.DataFrame(columns=['input_line_nums', 'satisfaction_nums', 'f1_scores'])\n",
    "\n",
    "input_line_nums = []\n",
    "result_f1_scores = []\n",
    "count_satisfaction = []\n",
    "\n",
    "for i in range(10):\n",
    "    print('Randomly select 10 training data...', end='')\n",
    "    sample_train = train_data.sample(n=10)\n",
    "    train_comments = list(sample_train.Customer_Service)\n",
    "    train_satisfaction = list(sample_train.Satisfaction.astype(str))\n",
    "\n",
    "    \n",
    "    input_line_nums.append(list(sample_train.index))\n",
    "    count_satisfaction.append(train_satisfaction.count('1'))\n",
    "    print(input_line_nums[i], end='')\n",
    "    print(', satisfaction count = {}, '.format(count_satisfaction[i]), end='')\n",
    "\n",
    "    satisfaction_instruction = satisfaction_instruction_head + \"\\n\"\n",
    "    for input_text_1, input_text_2 in zip(train_comments, train_satisfaction):\n",
    "        satisfaction_instruction = satisfaction_instruction + \"\\n\" + input_text_1 + \"\\n\" + input_text_2 + \"\\n\" \n",
    "\n",
    "    results = []\n",
    "    for input_text in comments:\n",
    "        prompt_input = satisfaction_instruction + \"\\n\" + input_text + \"\\n\"\n",
    "        results.append(prompt.generate(prompt_input, model_id, parameters).replace(\"\\n\",\"\"))\n",
    "\n",
    "    result_f1_scores.append(f1_score(satisfaction, results, average='micro'))\n",
    "    print('f1_micro_score : ', result_f1_scores[i])\n",
    "    \n",
    "    if result_f1_scores[i] == 0.0:\n",
    "        break\n",
    "    \n",
    "result_table['input_line_nums'] = input_line_nums\n",
    "result_table['satisfaction_nums'] = count_satisfaction\n",
    "result_table['f1_scores'] = result_f1_scores\n",
    "\n",
    "result_table.sort_values('f1_scores', ascending=False)"
   ]
  },
  {
   "cell_type": "code",
   "execution_count": 463,
   "metadata": {},
   "outputs": [
    {
     "data": {
      "text/html": [
       "<div>\n",
       "<style scoped>\n",
       "    .dataframe tbody tr th:only-of-type {\n",
       "        vertical-align: middle;\n",
       "    }\n",
       "\n",
       "    .dataframe tbody tr th {\n",
       "        vertical-align: top;\n",
       "    }\n",
       "\n",
       "    .dataframe thead th {\n",
       "        text-align: right;\n",
       "    }\n",
       "</style>\n",
       "<table border=\"1\" class=\"dataframe\">\n",
       "  <thead>\n",
       "    <tr style=\"text-align: right;\">\n",
       "      <th></th>\n",
       "      <th>ID</th>\n",
       "      <th>Gender</th>\n",
       "      <th>Status</th>\n",
       "      <th>Children</th>\n",
       "      <th>Age</th>\n",
       "      <th>Customer_Status</th>\n",
       "      <th>Car_Owner</th>\n",
       "      <th>Customer_Service</th>\n",
       "      <th>Satisfaction</th>\n",
       "      <th>Business_Area</th>\n",
       "      <th>Action</th>\n",
       "    </tr>\n",
       "  </thead>\n",
       "  <tbody>\n",
       "    <tr>\n",
       "      <th>62</th>\n",
       "      <td>1672</td>\n",
       "      <td>Male</td>\n",
       "      <td>M</td>\n",
       "      <td>2</td>\n",
       "      <td>52.63</td>\n",
       "      <td>Active</td>\n",
       "      <td>No</td>\n",
       "      <td>they were very nice and willing to help in any...</td>\n",
       "      <td>1</td>\n",
       "      <td>Service: Knowledge</td>\n",
       "      <td>NaN</td>\n",
       "    </tr>\n",
       "    <tr>\n",
       "      <th>7</th>\n",
       "      <td>3327</td>\n",
       "      <td>Male</td>\n",
       "      <td>D</td>\n",
       "      <td>0</td>\n",
       "      <td>32.85</td>\n",
       "      <td>Active</td>\n",
       "      <td>No</td>\n",
       "      <td>Its nice when you get in your car and it has a...</td>\n",
       "      <td>1</td>\n",
       "      <td>Product: Functioning</td>\n",
       "      <td>NaN</td>\n",
       "    </tr>\n",
       "    <tr>\n",
       "      <th>23</th>\n",
       "      <td>1897</td>\n",
       "      <td>Male</td>\n",
       "      <td>M</td>\n",
       "      <td>1</td>\n",
       "      <td>46.83</td>\n",
       "      <td>Inactive</td>\n",
       "      <td>Yes</td>\n",
       "      <td>long lines waiting for the rental pick.</td>\n",
       "      <td>0</td>\n",
       "      <td>Product: Functioning</td>\n",
       "      <td>On-demand pickup location</td>\n",
       "    </tr>\n",
       "    <tr>\n",
       "      <th>53</th>\n",
       "      <td>3716</td>\n",
       "      <td>Male</td>\n",
       "      <td>M</td>\n",
       "      <td>2</td>\n",
       "      <td>61.71</td>\n",
       "      <td>Inactive</td>\n",
       "      <td>Yes</td>\n",
       "      <td>The company was overwhelmed by the number of c...</td>\n",
       "      <td>0</td>\n",
       "      <td>Service: Orders/Contracts</td>\n",
       "      <td>On-demand pickup location</td>\n",
       "    </tr>\n",
       "    <tr>\n",
       "      <th>67</th>\n",
       "      <td>45</td>\n",
       "      <td>Male</td>\n",
       "      <td>S</td>\n",
       "      <td>2</td>\n",
       "      <td>53.28</td>\n",
       "      <td>Inactive</td>\n",
       "      <td>No</td>\n",
       "      <td>It was good, got the car we wanted without muc...</td>\n",
       "      <td>1</td>\n",
       "      <td>Service: Knowledge</td>\n",
       "      <td>NaN</td>\n",
       "    </tr>\n",
       "    <tr>\n",
       "      <th>66</th>\n",
       "      <td>0</td>\n",
       "      <td>Male</td>\n",
       "      <td>M</td>\n",
       "      <td>1</td>\n",
       "      <td>35.10</td>\n",
       "      <td>Active</td>\n",
       "      <td>Yes</td>\n",
       "      <td>Guys were extremely nice.</td>\n",
       "      <td>1</td>\n",
       "      <td>Service: Attitude</td>\n",
       "      <td>NaN</td>\n",
       "    </tr>\n",
       "    <tr>\n",
       "      <th>81</th>\n",
       "      <td>36</td>\n",
       "      <td>Female</td>\n",
       "      <td>S</td>\n",
       "      <td>1</td>\n",
       "      <td>62.79</td>\n",
       "      <td>Inactive</td>\n",
       "      <td>Yes</td>\n",
       "      <td>They were idiots.  The car had problems and th...</td>\n",
       "      <td>0</td>\n",
       "      <td>Product: Functioning</td>\n",
       "      <td>Free Upgrade</td>\n",
       "    </tr>\n",
       "    <tr>\n",
       "      <th>40</th>\n",
       "      <td>1757</td>\n",
       "      <td>Male</td>\n",
       "      <td>M</td>\n",
       "      <td>1</td>\n",
       "      <td>47.85</td>\n",
       "      <td>Active</td>\n",
       "      <td>No</td>\n",
       "      <td>they were extremely helpful and did whatever t...</td>\n",
       "      <td>1</td>\n",
       "      <td>Product: Functioning</td>\n",
       "      <td>NaN</td>\n",
       "    </tr>\n",
       "    <tr>\n",
       "      <th>13</th>\n",
       "      <td>0</td>\n",
       "      <td>Male</td>\n",
       "      <td>M</td>\n",
       "      <td>1</td>\n",
       "      <td>52.10</td>\n",
       "      <td>Active</td>\n",
       "      <td>Yes</td>\n",
       "      <td>We got our car very quickly.</td>\n",
       "      <td>1</td>\n",
       "      <td>Service: Orders/Contracts</td>\n",
       "      <td>NaN</td>\n",
       "    </tr>\n",
       "    <tr>\n",
       "      <th>78</th>\n",
       "      <td>0</td>\n",
       "      <td>Female</td>\n",
       "      <td>S</td>\n",
       "      <td>0</td>\n",
       "      <td>45.00</td>\n",
       "      <td>Active</td>\n",
       "      <td>No</td>\n",
       "      <td>My experience up to date was  good.  It was in...</td>\n",
       "      <td>1</td>\n",
       "      <td>Product: Pricing and Billing</td>\n",
       "      <td>NaN</td>\n",
       "    </tr>\n",
       "  </tbody>\n",
       "</table>\n",
       "</div>"
      ],
      "text/plain": [
       "      ID  Gender Status  Children    Age Customer_Status Car_Owner  \\\n",
       "62  1672    Male      M         2  52.63          Active        No   \n",
       "7   3327    Male      D         0  32.85          Active        No   \n",
       "23  1897    Male      M         1  46.83        Inactive       Yes   \n",
       "53  3716    Male      M         2  61.71        Inactive       Yes   \n",
       "67    45    Male      S         2  53.28        Inactive        No   \n",
       "66     0    Male      M         1  35.10          Active       Yes   \n",
       "81    36  Female      S         1  62.79        Inactive       Yes   \n",
       "40  1757    Male      M         1  47.85          Active        No   \n",
       "13     0    Male      M         1  52.10          Active       Yes   \n",
       "78     0  Female      S         0  45.00          Active        No   \n",
       "\n",
       "                                     Customer_Service  Satisfaction  \\\n",
       "62  they were very nice and willing to help in any...             1   \n",
       "7   Its nice when you get in your car and it has a...             1   \n",
       "23            long lines waiting for the rental pick.             0   \n",
       "53  The company was overwhelmed by the number of c...             0   \n",
       "67  It was good, got the car we wanted without muc...             1   \n",
       "66                          Guys were extremely nice.             1   \n",
       "81  They were idiots.  The car had problems and th...             0   \n",
       "40  they were extremely helpful and did whatever t...             1   \n",
       "13                       We got our car very quickly.             1   \n",
       "78  My experience up to date was  good.  It was in...             1   \n",
       "\n",
       "                   Business_Area                     Action  \n",
       "62            Service: Knowledge                        NaN  \n",
       "7           Product: Functioning                        NaN  \n",
       "23          Product: Functioning  On-demand pickup location  \n",
       "53     Service: Orders/Contracts  On-demand pickup location  \n",
       "67            Service: Knowledge                        NaN  \n",
       "66             Service: Attitude                        NaN  \n",
       "81          Product: Functioning               Free Upgrade  \n",
       "40          Product: Functioning                        NaN  \n",
       "13     Service: Orders/Contracts                        NaN  \n",
       "78  Product: Pricing and Billing                        NaN  "
      ]
     },
     "execution_count": 463,
     "metadata": {},
     "output_type": "execute_result"
    }
   ],
   "source": [
    "train_data.loc[[62, 7, 23, 53, 67, 66, 81, 40, 13, 78]]"
   ]
  },
  {
   "cell_type": "markdown",
   "metadata": {},
   "source": [
    "### Re-Calculate the F1 micro score"
   ]
  },
  {
   "cell_type": "markdown",
   "metadata": {},
   "source": [
    "Do it again to verify."
   ]
  },
  {
   "cell_type": "code",
   "execution_count": 465,
   "metadata": {},
   "outputs": [
    {
     "name": "stdout",
     "output_type": "stream",
     "text": [
      "Randomly select 10 training data...[62, 7, 23, 53, 67, 66, 81, 40, 13, 78], satisfaction count = 7, f1_micro_score :  0.96\n"
     ]
    }
   ],
   "source": [
    "i=0\n",
    "input_line_nums = []\n",
    "result_f1_scores = []\n",
    "count_satisfaction = []\n",
    "\n",
    "print('Randomly select 10 training data...', end='')\n",
    "sample_train = train_data.loc[[62, 7, 23, 53, 67, 66, 81, 40, 13, 78]]\n",
    "train_comments = list(sample_train.Customer_Service)\n",
    "train_satisfaction = list(sample_train.Satisfaction.astype(str))\n",
    "\n",
    "\n",
    "input_line_nums.append(list(sample_train.index))\n",
    "count_satisfaction.append(train_satisfaction.count('1'))\n",
    "print(input_line_nums[i], end='')\n",
    "print(', satisfaction count = {}, '.format(count_satisfaction[i]), end='')\n",
    "\n",
    "satisfaction_instruction = satisfaction_instruction_head + \"\\n\"\n",
    "for input_text_1, input_text_2 in zip(train_comments, train_satisfaction):\n",
    "    satisfaction_instruction = satisfaction_instruction + \"\\n\" + input_text_1 + \"\\n\" + input_text_2 + \"\\n\" \n",
    "\n",
    "results = []\n",
    "for input_text in comments:\n",
    "    prompt_input = satisfaction_instruction + \"\\n\" + input_text + \"\\n\"\n",
    "    results.append(prompt.generate(prompt_input, model_id, parameters).replace(\"\\n\",\"\"))\n",
    "\n",
    "result_f1_scores.append(f1_score(satisfaction, results, average='micro'))\n",
    "print('f1_micro_score : ', result_f1_scores[i])"
   ]
  },
  {
   "cell_type": "code",
   "execution_count": 466,
   "metadata": {},
   "outputs": [
    {
     "name": "stdout",
     "output_type": "stream",
     "text": [
      "f1_micro_score 0.96\n"
     ]
    }
   ],
   "source": [
    "print('f1_micro_score', f1_score(satisfaction, results, average='micro'))"
   ]
  },
  {
   "cell_type": "markdown",
   "metadata": {},
   "source": [
    "### **2. Offer Recommendation**"
   ]
  },
  {
   "cell_type": "markdown",
   "metadata": {},
   "source": [
    "Define instructions for the model to recommend best offer to an unsatisfied customer.\n",
    "\n",
    "**Note:** Please **start with using [watsonx.ai Prompt Lab](https://dataplatform.cloud.ibm.com/wx/home?context=wx)** to find better prompts that provides you the best result on a small subset training records (under `train_data` variable). Make sure to not run an inference of all of `train_data`, as it'll take a long time to get the results. To get a sample from `train_data`, you can use e.g.`train_data.head(n=10)` to get first 10 records, or `train_data.sample(n=10)` to get random 10 records. Only once you have identified the best performing prompt, update this notebook to use the prompt and compute the metrics on the test data.\n",
    "\n",
    "**Action:** Please edit the below cell and add your own prompt here. In the below prompt, we have the instruction (first sentence) and one example included in the prompt.  If you want to change the prompt or add your own examples or more examples, please change the below prompt accordingly."
   ]
  },
  {
   "cell_type": "markdown",
   "metadata": {},
   "source": [
    "Categorize and cleanse training data so that it can be used to write instructions"
   ]
  },
  {
   "cell_type": "code",
   "execution_count": 288,
   "metadata": {},
   "outputs": [
    {
     "data": {
      "text/html": [
       "<div>\n",
       "<style scoped>\n",
       "    .dataframe tbody tr th:only-of-type {\n",
       "        vertical-align: middle;\n",
       "    }\n",
       "\n",
       "    .dataframe tbody tr th {\n",
       "        vertical-align: top;\n",
       "    }\n",
       "\n",
       "    .dataframe thead th {\n",
       "        text-align: right;\n",
       "    }\n",
       "</style>\n",
       "<table border=\"1\" class=\"dataframe\">\n",
       "  <thead>\n",
       "    <tr style=\"text-align: right;\">\n",
       "      <th></th>\n",
       "      <th>ID</th>\n",
       "      <th>Gender</th>\n",
       "      <th>Status</th>\n",
       "      <th>Children</th>\n",
       "      <th>Age</th>\n",
       "      <th>Customer_Status</th>\n",
       "      <th>Car_Owner</th>\n",
       "      <th>Customer_Service</th>\n",
       "      <th>Satisfaction</th>\n",
       "      <th>Business_Area</th>\n",
       "      <th>Action</th>\n",
       "    </tr>\n",
       "  </thead>\n",
       "  <tbody>\n",
       "    <tr>\n",
       "      <th>2</th>\n",
       "      <td>0</td>\n",
       "      <td>Male</td>\n",
       "      <td>M</td>\n",
       "      <td>0</td>\n",
       "      <td>51.00</td>\n",
       "      <td>Inactive</td>\n",
       "      <td>Yes</td>\n",
       "      <td>I do not  understand why I have to pay additio...</td>\n",
       "      <td>0</td>\n",
       "      <td>Product: Pricing and Billing</td>\n",
       "      <td>Premium features</td>\n",
       "    </tr>\n",
       "    <tr>\n",
       "      <th>3</th>\n",
       "      <td>1085</td>\n",
       "      <td>Female</td>\n",
       "      <td>S</td>\n",
       "      <td>2</td>\n",
       "      <td>42.00</td>\n",
       "      <td>Inactive</td>\n",
       "      <td>No</td>\n",
       "      <td>Based on the customer service personnel I enco...</td>\n",
       "      <td>0</td>\n",
       "      <td>Service: Attitude</td>\n",
       "      <td>On-demand pickup location</td>\n",
       "    </tr>\n",
       "    <tr>\n",
       "      <th>4</th>\n",
       "      <td>0</td>\n",
       "      <td>Female</td>\n",
       "      <td>M</td>\n",
       "      <td>2</td>\n",
       "      <td>44.10</td>\n",
       "      <td>Active</td>\n",
       "      <td>No</td>\n",
       "      <td>Provide more convenient car pickup from the ai...</td>\n",
       "      <td>0</td>\n",
       "      <td>Service: Orders/Contracts</td>\n",
       "      <td>On-demand pickup location</td>\n",
       "    </tr>\n",
       "    <tr>\n",
       "      <th>6</th>\n",
       "      <td>0</td>\n",
       "      <td>Female</td>\n",
       "      <td>M</td>\n",
       "      <td>2</td>\n",
       "      <td>44.03</td>\n",
       "      <td>Active</td>\n",
       "      <td>No</td>\n",
       "      <td>VERY slow service!</td>\n",
       "      <td>0</td>\n",
       "      <td>Service: Accessibility</td>\n",
       "      <td>Free Upgrade</td>\n",
       "    </tr>\n",
       "    <tr>\n",
       "      <th>8</th>\n",
       "      <td>0</td>\n",
       "      <td>Male</td>\n",
       "      <td>S</td>\n",
       "      <td>2</td>\n",
       "      <td>20.40</td>\n",
       "      <td>Inactive</td>\n",
       "      <td>No</td>\n",
       "      <td>They could really try work harder.</td>\n",
       "      <td>0</td>\n",
       "      <td>Service: Attitude</td>\n",
       "      <td>Free Upgrade</td>\n",
       "    </tr>\n",
       "  </tbody>\n",
       "</table>\n",
       "</div>"
      ],
      "text/plain": [
       "     ID  Gender Status  Children    Age Customer_Status Car_Owner  \\\n",
       "2     0    Male      M         0  51.00        Inactive       Yes   \n",
       "3  1085  Female      S         2  42.00        Inactive        No   \n",
       "4     0  Female      M         2  44.10          Active        No   \n",
       "6     0  Female      M         2  44.03          Active        No   \n",
       "8     0    Male      S         2  20.40        Inactive        No   \n",
       "\n",
       "                                    Customer_Service  Satisfaction  \\\n",
       "2  I do not  understand why I have to pay additio...             0   \n",
       "3  Based on the customer service personnel I enco...             0   \n",
       "4  Provide more convenient car pickup from the ai...             0   \n",
       "6                                 VERY slow service!             0   \n",
       "8                 They could really try work harder.             0   \n",
       "\n",
       "                  Business_Area                     Action  \n",
       "2  Product: Pricing and Billing           Premium features  \n",
       "3             Service: Attitude  On-demand pickup location  \n",
       "4     Service: Orders/Contracts  On-demand pickup location  \n",
       "6        Service: Accessibility               Free Upgrade  \n",
       "8             Service: Attitude               Free Upgrade  "
      ]
     },
     "execution_count": 288,
     "metadata": {},
     "output_type": "execute_result"
    }
   ],
   "source": [
    "unsatisfied_train_data = train_data.loc[train_data['Satisfaction'] == 0]\n",
    "unsatisfied_train_data.head()"
   ]
  },
  {
   "cell_type": "markdown",
   "metadata": {},
   "source": [
    "#### 2.1. Defining the model parameters\n",
    "We need to provide a set of model parameters that will influence the result. We will use IBM's Granite model."
   ]
  },
  {
   "cell_type": "code",
   "execution_count": 470,
   "metadata": {},
   "outputs": [],
   "source": [
    "parameters = {\n",
    "    \"decoding_method\": \"greedy\",\n",
    "    \"max_new_tokens\": 30,\n",
    "    \"min_new_tokens\": 1,\n",
    "    \"repetition_penalty\": 1\n",
    "}\n",
    "\n",
    "model_id = \"ibm/granite-13b-instruct-v1\""
   ]
  },
  {
   "cell_type": "markdown",
   "metadata": {},
   "source": [
    "#### 2.2. Filter test data for unsatisfied customer"
   ]
  },
  {
   "cell_type": "code",
   "execution_count": 471,
   "metadata": {
    "scrolled": false
   },
   "outputs": [
    {
     "data": {
      "text/html": [
       "<div>\n",
       "<style scoped>\n",
       "    .dataframe tbody tr th:only-of-type {\n",
       "        vertical-align: middle;\n",
       "    }\n",
       "\n",
       "    .dataframe tbody tr th {\n",
       "        vertical-align: top;\n",
       "    }\n",
       "\n",
       "    .dataframe thead th {\n",
       "        text-align: right;\n",
       "    }\n",
       "</style>\n",
       "<table border=\"1\" class=\"dataframe\">\n",
       "  <thead>\n",
       "    <tr style=\"text-align: right;\">\n",
       "      <th></th>\n",
       "      <th>ID</th>\n",
       "      <th>Gender</th>\n",
       "      <th>Status</th>\n",
       "      <th>Children</th>\n",
       "      <th>Age</th>\n",
       "      <th>Customer_Status</th>\n",
       "      <th>Car_Owner</th>\n",
       "      <th>Customer_Service</th>\n",
       "      <th>Satisfaction</th>\n",
       "      <th>Business_Area</th>\n",
       "      <th>Action</th>\n",
       "    </tr>\n",
       "  </thead>\n",
       "  <tbody>\n",
       "    <tr>\n",
       "      <th>0</th>\n",
       "      <td>2771</td>\n",
       "      <td>Female</td>\n",
       "      <td>M</td>\n",
       "      <td>2</td>\n",
       "      <td>49.99</td>\n",
       "      <td>Inactive</td>\n",
       "      <td>No</td>\n",
       "      <td>last time I rented a car was at Manchester, NH...</td>\n",
       "      <td>0</td>\n",
       "      <td>Product: Functioning</td>\n",
       "      <td>On-demand pickup location</td>\n",
       "    </tr>\n",
       "    <tr>\n",
       "      <th>1</th>\n",
       "      <td>1133</td>\n",
       "      <td>Male</td>\n",
       "      <td>S</td>\n",
       "      <td>1</td>\n",
       "      <td>56.05</td>\n",
       "      <td>Inactive</td>\n",
       "      <td>No</td>\n",
       "      <td>Please lower the prices.</td>\n",
       "      <td>0</td>\n",
       "      <td>Product: Pricing and Billing</td>\n",
       "      <td>Free Upgrade</td>\n",
       "    </tr>\n",
       "    <tr>\n",
       "      <th>4</th>\n",
       "      <td>3541</td>\n",
       "      <td>Male</td>\n",
       "      <td>S</td>\n",
       "      <td>1</td>\n",
       "      <td>17.01</td>\n",
       "      <td>Inactive</td>\n",
       "      <td>Yes</td>\n",
       "      <td>Slow, long lineup</td>\n",
       "      <td>0</td>\n",
       "      <td>Product: Functioning</td>\n",
       "      <td>On-demand pickup location</td>\n",
       "    </tr>\n",
       "    <tr>\n",
       "      <th>5</th>\n",
       "      <td>2608</td>\n",
       "      <td>Female</td>\n",
       "      <td>S</td>\n",
       "      <td>0</td>\n",
       "      <td>32.02</td>\n",
       "      <td>Active</td>\n",
       "      <td>No</td>\n",
       "      <td>Customer is important for the enjoyment of the...</td>\n",
       "      <td>0</td>\n",
       "      <td>Product: Functioning</td>\n",
       "      <td>Voucher</td>\n",
       "    </tr>\n",
       "    <tr>\n",
       "      <th>7</th>\n",
       "      <td>3382</td>\n",
       "      <td>Male</td>\n",
       "      <td>M</td>\n",
       "      <td>1</td>\n",
       "      <td>52.15</td>\n",
       "      <td>Inactive</td>\n",
       "      <td>No</td>\n",
       "      <td>They should upgrade me every time.</td>\n",
       "      <td>0</td>\n",
       "      <td>Service: Knowledge</td>\n",
       "      <td>Free Upgrade</td>\n",
       "    </tr>\n",
       "  </tbody>\n",
       "</table>\n",
       "</div>"
      ],
      "text/plain": [
       "     ID  Gender Status  Children    Age Customer_Status Car_Owner  \\\n",
       "0  2771  Female      M         2  49.99        Inactive        No   \n",
       "1  1133    Male      S         1  56.05        Inactive        No   \n",
       "4  3541    Male      S         1  17.01        Inactive       Yes   \n",
       "5  2608  Female      S         0  32.02          Active        No   \n",
       "7  3382    Male      M         1  52.15        Inactive        No   \n",
       "\n",
       "                                    Customer_Service  Satisfaction  \\\n",
       "0  last time I rented a car was at Manchester, NH...             0   \n",
       "1                           Please lower the prices.             0   \n",
       "4                                  Slow, long lineup             0   \n",
       "5  Customer is important for the enjoyment of the...             0   \n",
       "7                 They should upgrade me every time.             0   \n",
       "\n",
       "                  Business_Area                     Action  \n",
       "0          Product: Functioning  On-demand pickup location  \n",
       "1  Product: Pricing and Billing               Free Upgrade  \n",
       "4          Product: Functioning  On-demand pickup location  \n",
       "5          Product: Functioning                    Voucher  \n",
       "7            Service: Knowledge               Free Upgrade  "
      ]
     },
     "execution_count": 471,
     "metadata": {},
     "output_type": "execute_result"
    }
   ],
   "source": [
    "unsatisfied_test_data = test_data.loc[test_data['Satisfaction'] == 0]\n",
    "unsatisfied_test_data.head()"
   ]
  },
  {
   "cell_type": "markdown",
   "metadata": {},
   "source": [
    "Analyze the recommended actions for inputs from the test set.\n",
    "\n",
    "**Note:** Execution of this cell could take several minutes."
   ]
  },
  {
   "cell_type": "markdown",
   "metadata": {},
   "source": [
    "#### 2.3. Define the first part of the directive"
   ]
  },
  {
   "cell_type": "code",
   "execution_count": 472,
   "metadata": {},
   "outputs": [],
   "source": [
    "offer_recommendation_instruction_head = \"\"\"Generate next best offer to unsatisfied customer. Choose offer recommendation from the following list: 'On-demand pickup location', 'Free Upgrade', 'Voucher', 'Premium features'.\n",
    "\"\"\""
   ]
  },
  {
   "cell_type": "markdown",
   "metadata": {},
   "source": [
    "#### 2.4. Find the most effective training data - Step1"
   ]
  },
  {
   "cell_type": "markdown",
   "metadata": {},
   "source": [
    "At first, we checked the score by randomly inserting 8 training data into the instructions as in the previous customer satisfaction, but the results were not good.\n",
    "\n",
    "So, we decided to increase the examples in the directive by one and check the results.\n",
    "\n",
    "In the first attempt, index number 97 received the highest score."
   ]
  },
  {
   "cell_type": "code",
   "execution_count": 473,
   "metadata": {},
   "outputs": [
    {
     "name": "stdout",
     "output_type": "stream",
     "text": [
      "input_text_index: 2, f1_micro_score 0.2777777777777778\n",
      "input_text_index: 3, f1_micro_score 0.2777777777777778\n",
      "input_text_index: 4, f1_micro_score 0.2222222222222222\n",
      "input_text_index: 6, f1_micro_score 0.16666666666666666\n",
      "input_text_index: 8, f1_micro_score 0.16666666666666666\n",
      "input_text_index: 9, f1_micro_score 0.16666666666666666\n",
      "input_text_index: 16, f1_micro_score 0.2222222222222222\n",
      "input_text_index: 18, f1_micro_score 0.2222222222222222\n",
      "input_text_index: 19, f1_micro_score 0.3333333333333333\n",
      "input_text_index: 21, f1_micro_score 0.16666666666666666\n",
      "input_text_index: 23, f1_micro_score 0.2222222222222222\n",
      "input_text_index: 27, f1_micro_score 0.1111111111111111\n",
      "input_text_index: 30, f1_micro_score 0.16666666666666666\n",
      "input_text_index: 31, f1_micro_score 0.2222222222222222\n",
      "input_text_index: 33, f1_micro_score 0.4444444444444444\n",
      "input_text_index: 38, f1_micro_score 0.3333333333333333\n",
      "input_text_index: 42, f1_micro_score 0.2222222222222222\n",
      "input_text_index: 46, f1_micro_score 0.2777777777777778\n",
      "input_text_index: 49, f1_micro_score 0.2222222222222222\n",
      "input_text_index: 50, f1_micro_score 0.16666666666666666\n",
      "input_text_index: 53, f1_micro_score 0.2777777777777778\n",
      "input_text_index: 57, f1_micro_score 0.2222222222222222\n",
      "input_text_index: 59, f1_micro_score 0.5\n",
      "input_text_index: 64, f1_micro_score 0.2777777777777778\n",
      "input_text_index: 65, f1_micro_score 0.16666666666666666\n",
      "input_text_index: 69, f1_micro_score 0.2222222222222222\n",
      "input_text_index: 72, f1_micro_score 0.3888888888888889\n",
      "input_text_index: 75, f1_micro_score 0.3888888888888889\n",
      "input_text_index: 76, f1_micro_score 0.2222222222222222\n",
      "input_text_index: 80, f1_micro_score 0.16666666666666666\n",
      "input_text_index: 81, f1_micro_score 0.2222222222222222\n",
      "input_text_index: 83, f1_micro_score 0.2777777777777778\n",
      "input_text_index: 85, f1_micro_score 0.5\n",
      "input_text_index: 86, f1_micro_score 0.2777777777777778\n",
      "input_text_index: 87, f1_micro_score 0.2777777777777778\n",
      "input_text_index: 89, f1_micro_score 0.3888888888888889\n",
      "input_text_index: 90, f1_micro_score 0.2777777777777778\n",
      "input_text_index: 95, f1_micro_score 0.2222222222222222\n",
      "input_text_index: 96, f1_micro_score 0.2222222222222222\n",
      "input_text_index: 97, f1_micro_score 0.5555555555555556\n",
      "input_text_index: 99, f1_micro_score 0.16666666666666666\n"
     ]
    }
   ],
   "source": [
    "for idx, row in unsatisfied_train_data.iterrows():\n",
    "    \n",
    "    print(\"input_text_index: {}, \".format(idx), end='')\n",
    "    offer_recommendation_instruction = offer_recommendation_instruction_head + \"\\n\" + row['Customer_Service'] + \"\\n\\n\" + row['Action'] + \"\\n\\n\"\n",
    "\n",
    "    results = []\n",
    "    prompt = Prompt(access_token, project_id)\n",
    "    comments = list(unsatisfied_test_data.Customer_Service)\n",
    "    offer_recommended = list(unsatisfied_test_data.Action.astype(str))\n",
    "\n",
    "    for input_text in comments:\n",
    "        input_text = input_text + '\\n'\n",
    "        res = prompt.generate(\" \".join([offer_recommendation_instruction, input_text]), model_id, parameters).replace(\"\\n\", \"\")\n",
    "        results.append(res)\n",
    "    \n",
    "    print('f1_micro_score', f1_score(offer_recommended, results, average='micro'))"
   ]
  },
  {
   "cell_type": "markdown",
   "metadata": {},
   "source": [
    "#### 2.5. Find the most effective training data - Step2"
   ]
  },
  {
   "cell_type": "markdown",
   "metadata": {},
   "source": [
    "Score is measured by increasing the examples included in the instructions. The best result came out when two examples were included."
   ]
  },
  {
   "cell_type": "code",
   "execution_count": 474,
   "metadata": {},
   "outputs": [
    {
     "name": "stdout",
     "output_type": "stream",
     "text": [
      "input_text_index: 2, f1_micro_score 0.3333333333333333\n",
      "input_text_index: 3, f1_micro_score 0.3333333333333333\n",
      "input_text_index: 4, f1_micro_score 0.3333333333333333\n",
      "input_text_index: 6, f1_micro_score 0.3333333333333333\n",
      "input_text_index: 8, f1_micro_score 0.3888888888888889\n",
      "input_text_index: 9, f1_micro_score 0.3888888888888889\n",
      "input_text_index: 16, f1_micro_score 0.2777777777777778\n",
      "input_text_index: 18, f1_micro_score 0.3888888888888889\n",
      "input_text_index: 19, f1_micro_score 0.3888888888888889\n",
      "input_text_index: 21, f1_micro_score 0.3888888888888889\n",
      "input_text_index: 23, f1_micro_score 0.16666666666666666\n",
      "input_text_index: 27, f1_micro_score 0.3333333333333333\n",
      "input_text_index: 30, f1_micro_score 0.3333333333333333\n",
      "input_text_index: 31, f1_micro_score 0.4444444444444444\n",
      "input_text_index: 33, f1_micro_score 0.2777777777777778\n",
      "input_text_index: 38, f1_micro_score 0.4444444444444444\n",
      "input_text_index: 42, f1_micro_score 0.3888888888888889\n",
      "input_text_index: 46, f1_micro_score 0.2777777777777778\n",
      "input_text_index: 49, f1_micro_score 0.4444444444444444\n",
      "input_text_index: 50, f1_micro_score 0.2777777777777778\n",
      "input_text_index: 53, f1_micro_score 0.3333333333333333\n",
      "input_text_index: 57, f1_micro_score 0.2777777777777778\n",
      "input_text_index: 59, f1_micro_score 0.5\n",
      "input_text_index: 64, f1_micro_score 0.3333333333333333\n",
      "input_text_index: 65, f1_micro_score 0.3333333333333333\n",
      "input_text_index: 69, f1_micro_score 0.3333333333333333\n",
      "input_text_index: 72, f1_micro_score 0.3333333333333333\n",
      "input_text_index: 75, f1_micro_score 0.4444444444444444\n",
      "input_text_index: 76, f1_micro_score 0.3888888888888889\n",
      "input_text_index: 80, f1_micro_score 0.4444444444444444\n",
      "input_text_index: 81, f1_micro_score 0.3888888888888889\n",
      "input_text_index: 83, f1_micro_score 0.4444444444444444\n",
      "input_text_index: 85, f1_micro_score 0.4444444444444444\n",
      "input_text_index: 86, f1_micro_score 0.3333333333333333\n",
      "input_text_index: 87, f1_micro_score 0.3888888888888889\n",
      "input_text_index: 89, f1_micro_score 0.6111111111111112\n",
      "input_text_index: 90, f1_micro_score 0.4444444444444444\n",
      "input_text_index: 95, f1_micro_score 0.3333333333333333\n",
      "input_text_index: 96, f1_micro_score 0.3888888888888889\n",
      "input_text_index: 99, f1_micro_score 0.3888888888888889\n"
     ]
    }
   ],
   "source": [
    "for idx, row in unsatisfied_train_data.iterrows():\n",
    "    if idx in [97]:\n",
    "        continue\n",
    "        \n",
    "    offer_recommendation_instruction = offer_recommendation_instruction_head\n",
    "    \n",
    "    input_offer = unsatisfied_train_data.loc[[97]]\n",
    "    \n",
    "    for iidx, rrow in input_offer.iterrows():\n",
    "        offer_recommendation_instruction = offer_recommendation_instruction + \"\\n\" + rrow['Customer_Service'] + \"\\n\\n\" + rrow['Action'] + \"\\n\\n\"\n",
    "    \n",
    "    print(\"input_text_index: {}, \".format(idx), end='')\n",
    "    offer_recommendation_instruction = offer_recommendation_instruction + \"\\n\" + row['Customer_Service'] + \"\\n\\n\" + row['Action'] + \"\\n\\n\"\n",
    "\n",
    "    results = []\n",
    "    prompt = Prompt(access_token, project_id)\n",
    "    comments = list(unsatisfied_test_data.Customer_Service)\n",
    "    offer_recommended = list(unsatisfied_test_data.Action.astype(str))\n",
    "\n",
    "    for input_text in comments:\n",
    "        input_text = input_text + '\\n'\n",
    "        res = prompt.generate(\" \".join([offer_recommendation_instruction, input_text]), model_id, parameters).replace(\"\\n\", \"\")\n",
    "        results.append(res)\n",
    "    \n",
    "    print('f1_micro_score', f1_score(offer_recommended, results, average='micro'))\n",
    "    \n",
    "    "
   ]
  },
  {
   "cell_type": "markdown",
   "metadata": {},
   "source": [
    "### Re-Calculate the F1 micro score"
   ]
  },
  {
   "cell_type": "code",
   "execution_count": 475,
   "metadata": {},
   "outputs": [],
   "source": [
    "offer_recommendation_instruction = offer_recommendation_instruction_head\n",
    "\n",
    "input_offer = unsatisfied_train_data.loc[[97, 89]]\n",
    "\n",
    "for iidx, rrow in input_offer.iterrows():\n",
    "        offer_recommendation_instruction = offer_recommendation_instruction + \"\\n\" + rrow['Customer_Service'] + \"\\n\\n\" + rrow['Action'] + \"\\n\\n\"\n",
    "    \n",
    "results = []\n",
    "prompt = Prompt(access_token, project_id)\n",
    "comments = list(unsatisfied_test_data.Customer_Service)\n",
    "offer_recommended = list(unsatisfied_test_data.Action.astype(str))\n",
    "\n",
    "for input_text in comments:\n",
    "    input_text = input_text + '\\n'\n",
    "    res = prompt.generate(\" \".join([offer_recommendation_instruction, input_text]), model_id, parameters).replace(\"\\n\", \"\")\n",
    "    results.append(res)"
   ]
  },
  {
   "cell_type": "code",
   "execution_count": 476,
   "metadata": {},
   "outputs": [
    {
     "name": "stdout",
     "output_type": "stream",
     "text": [
      "f1_micro_score 0.6111111111111112\n"
     ]
    }
   ],
   "source": [
    "from sklearn.metrics import f1_score\n",
    "\n",
    "print('f1_micro_score', f1_score(offer_recommended, results, average='micro'))"
   ]
  },
  {
   "cell_type": "markdown",
   "metadata": {},
   "source": [
    "---"
   ]
  },
  {
   "cell_type": "markdown",
   "metadata": {},
   "source": [
    "Copyright © 2023 IBM. This notebook and its source code are released under the terms of the MIT License."
   ]
  }
 ],
 "metadata": {
  "kernelspec": {
   "display_name": "Python 3.10",
   "language": "python",
   "name": "python3"
  },
  "language_info": {
   "codemirror_mode": {
    "name": "ipython",
    "version": 3
   },
   "file_extension": ".py",
   "mimetype": "text/x-python",
   "name": "python",
   "nbconvert_exporter": "python",
   "pygments_lexer": "ipython3",
   "version": "3.10.13"
  }
 },
 "nbformat": 4,
 "nbformat_minor": 1
}
